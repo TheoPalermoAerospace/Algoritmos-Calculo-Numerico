{
 "cells": [
  {
   "cell_type": "code",
   "execution_count": 2,
   "id": "afd6128a",
   "metadata": {},
   "outputs": [],
   "source": [
    "import numpy as np\n",
    "import math"
   ]
  },
  {
   "cell_type": "code",
   "execution_count": 7,
   "id": "c1340347",
   "metadata": {},
   "outputs": [
    {
     "data": {
      "text/plain": [
       "1.0000000000116418"
      ]
     },
     "execution_count": 7,
     "metadata": {},
     "output_type": "execute_result"
    }
   ],
   "source": [
    "def metodoBisseccao(f, a, b, tolerancia): # f é a função e [a, b] é o intervalo no qual queremos encontrar a raiz.\n",
    "    c = (a+b)/2 # Valor Intermediário!\n",
    "    \n",
    "    # É importante saber se o produto de f(a) por f(b) é menor que zero.\n",
    "    if np.sign(f(a)) == np.sign(f(b)):\n",
    "        raise Exception(\"Não há raiz no intervalo [a, b]\") # Mostrará nas mensagens de erro\n",
    "        #print(\"Não há raiz no intervalo [a, b]\")\n",
    "        \n",
    "    if np.abs(f(c)) < tolerancia:\n",
    "        return c\n",
    "    \n",
    "    # Utilizando recursão:\n",
    "    \n",
    "    elif np.sign(f(a)) == np.sign(f(c)):\n",
    "        return metodoBisseccao(f, c, b, tolerancia) # Troca \"a\" por \"c\"\n",
    "    \n",
    "    elif np.sign(f(b)) == np.sign(f(c)):\n",
    "        return metodoBisseccao(f, a, c, tolerancia) # Troca \"b\" por \"c\"\n",
    "    \n",
    "def f(x):\n",
    "    return math.sin(x-1)*math.pi/((math.e)**x - x**2)\n",
    "\n",
    "metodoBisseccao(f, 0.4, 1.8, 0.0000000001)"
   ]
  }
 ],
 "metadata": {
  "kernelspec": {
   "display_name": "Python 3 (ipykernel)",
   "language": "python",
   "name": "python3"
  },
  "language_info": {
   "codemirror_mode": {
    "name": "ipython",
    "version": 3
   },
   "file_extension": ".py",
   "mimetype": "text/x-python",
   "name": "python",
   "nbconvert_exporter": "python",
   "pygments_lexer": "ipython3",
   "version": "3.9.13"
  }
 },
 "nbformat": 4,
 "nbformat_minor": 5
}
