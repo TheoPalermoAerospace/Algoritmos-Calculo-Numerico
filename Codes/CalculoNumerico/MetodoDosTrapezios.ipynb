{
 "cells": [
  {
   "cell_type": "code",
   "execution_count": 1,
   "id": "dc3b3e45",
   "metadata": {},
   "outputs": [],
   "source": [
    "import math\n",
    "import numpy as np"
   ]
  },
  {
   "cell_type": "code",
   "execution_count": 16,
   "id": "8c3cbfd6",
   "metadata": {},
   "outputs": [
    {
     "name": "stdout",
     "output_type": "stream",
     "text": [
      "Integral =  1.6391510787773833\n"
     ]
    }
   ],
   "source": [
    "def metodoTrapezio(x):\n",
    "    h = x[1] - x[0]\n",
    "    b = (f(x[0]) + f(x[1]))/2\n",
    "    y = b*h\n",
    "    return y\n",
    "\n",
    "def metodoTrapezioRepetida(x):\n",
    "    n = len(x)\n",
    "    h = x[1] - x[0]\n",
    "    somatorio = (f(x[0]) + f(x[n-1]))\n",
    "    \n",
    "    for i in x[1:n-1]:\n",
    "        somatorio = somatorio + 2*f(i)\n",
    "    \n",
    "    y = somatorio*h/2\n",
    "    return y\n",
    "\n",
    "def f(x):\n",
    "    #y = np.exp(x)\n",
    "    y = np.exp(x)*np.cos(x)\n",
    "    return y\n",
    "\n",
    "#x = [0, 1] # Regra dos Trapézios\n",
    "x = np.arange(0, 1.4, 0.2) # Regra dos Trapézios Repetida\n",
    "\n",
    "#print(\"Integral = \", metodoTrapezio(x))\n",
    "print(\"Integral = \", metodoTrapezioRepetida(x))"
   ]
  }
 ],
 "metadata": {
  "kernelspec": {
   "display_name": "Python 3 (ipykernel)",
   "language": "python",
   "name": "python3"
  },
  "language_info": {
   "codemirror_mode": {
    "name": "ipython",
    "version": 3
   },
   "file_extension": ".py",
   "mimetype": "text/x-python",
   "name": "python",
   "nbconvert_exporter": "python",
   "pygments_lexer": "ipython3",
   "version": "3.9.13"
  }
 },
 "nbformat": 4,
 "nbformat_minor": 5
}
