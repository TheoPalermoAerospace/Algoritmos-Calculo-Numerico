{
 "cells": [
  {
   "cell_type": "code",
   "execution_count": 5,
   "id": "b877b3be",
   "metadata": {},
   "outputs": [
    {
     "name": "stdout",
     "output_type": "stream",
     "text": [
      "y(2.1) = 2.0\n"
     ]
    }
   ],
   "source": [
    "def funcaoAuxiliar(x, y):\n",
    "    return (1 - y/x)\n",
    "\n",
    "def rungePrimeiraOrdem(f, x0, xf, y0, h):\n",
    "    y1 = y0 + h*funcaoAuxiliar(x0, y0)\n",
    "    x1 = x0 + h\n",
    "    \n",
    "    n = int((xf - x0)/h)\n",
    "    for i in range(1, n):\n",
    "        x0 = x1\n",
    "        y0 = y1\n",
    "        y1 = y0 + h*funcaoAuxiliar(x0, y0)\n",
    "        x1 = x0 + h\n",
    "    \n",
    "    return x1, y1\n",
    "\n",
    "# Dados do problema\n",
    "f = funcaoAuxiliar\n",
    "x0 = 2\n",
    "xf = 2.1\n",
    "y0 = 2\n",
    "h = 0.1\n",
    "\n",
    "x1, y1 = rungePrimeiraOrdem(f, x0, xf, y0, h)\n",
    "print(f\"y({x1}) = {y1}\")"
   ]
  }
 ],
 "metadata": {
  "kernelspec": {
   "display_name": "Python 3 (ipykernel)",
   "language": "python",
   "name": "python3"
  },
  "language_info": {
   "codemirror_mode": {
    "name": "ipython",
    "version": 3
   },
   "file_extension": ".py",
   "mimetype": "text/x-python",
   "name": "python",
   "nbconvert_exporter": "python",
   "pygments_lexer": "ipython3",
   "version": "3.9.13"
  }
 },
 "nbformat": 4,
 "nbformat_minor": 5
}
