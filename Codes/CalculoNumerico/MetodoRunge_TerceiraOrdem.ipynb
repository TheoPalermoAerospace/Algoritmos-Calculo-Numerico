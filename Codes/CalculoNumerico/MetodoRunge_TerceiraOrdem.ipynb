{
 "cells": [
  {
   "cell_type": "code",
   "execution_count": 1,
   "id": "1e689745",
   "metadata": {},
   "outputs": [
    {
     "name": "stdout",
     "output_type": "stream",
     "text": [
      "y(2.1) = 2.00238025271819\n"
     ]
    }
   ],
   "source": [
    "def funcaoAuxiliar(x, y):\n",
    "    return (1 - y/x)\n",
    "\n",
    "def rungeTerceiraOrdem(f, x0, xf, y0, h):\n",
    "    k1 = h*funcaoAuxiliar(x0, y0)\n",
    "    k2 = h*funcaoAuxiliar(x0+h/2, y0+k1/2)\n",
    "    k3 = h*funcaoAuxiliar(x0+3*h/4, y0+3*k2/4)\n",
    "    y1 = y0 + (2/9)*k1 + (1/3)*k2 + (4/9)*k3\n",
    "    x1 = x0 + h\n",
    "    \n",
    "    n = int((xf - x0)/h)\n",
    "    for i in range(1, n):\n",
    "        x0 = x1\n",
    "        y0 = y1\n",
    "        k1 = h*funcaoAuxiliar(x0, y0)\n",
    "        k2 = h*funcaoAuxiliar(x0+h/2, y0+k1/2)\n",
    "        k3 = h*funcaoAuxiliar(x0+3*h/4, y0+3*k2/4)\n",
    "        y1 = y0 + (2/9)*k1 + (1/3)*k2 + (4/9)*k3\n",
    "        x1 = x0 + h\n",
    "    \n",
    "    return x1, y1\n",
    "\n",
    "# Dados do problema\n",
    "f = funcaoAuxiliar\n",
    "x0 = 2\n",
    "xf = 2.1\n",
    "y0 = 2\n",
    "h = 0.1\n",
    "\n",
    "x1, y1 = rungeTerceiraOrdem(f, x0, xf, y0, h)\n",
    "print(f\"y({x1}) = {y1}\")"
   ]
  }
 ],
 "metadata": {
  "kernelspec": {
   "display_name": "Python 3 (ipykernel)",
   "language": "python",
   "name": "python3"
  },
  "language_info": {
   "codemirror_mode": {
    "name": "ipython",
    "version": 3
   },
   "file_extension": ".py",
   "mimetype": "text/x-python",
   "name": "python",
   "nbconvert_exporter": "python",
   "pygments_lexer": "ipython3",
   "version": "3.9.13"
  }
 },
 "nbformat": 4,
 "nbformat_minor": 5
}
