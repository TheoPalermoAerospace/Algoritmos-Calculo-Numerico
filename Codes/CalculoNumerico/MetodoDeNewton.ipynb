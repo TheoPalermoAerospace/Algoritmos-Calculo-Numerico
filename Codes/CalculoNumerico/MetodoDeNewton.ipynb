{
 "cells": [
  {
   "cell_type": "code",
   "execution_count": 34,
   "id": "85db5959",
   "metadata": {},
   "outputs": [],
   "source": [
    "import math"
   ]
  },
  {
   "cell_type": "code",
   "execution_count": 35,
   "id": "2bc59c54",
   "metadata": {},
   "outputs": [
    {
     "name": "stdout",
     "output_type": "stream",
     "text": [
      "3.0\n",
      "Raiz: 2.15329\n",
      "Iterações: 6\n",
      "f(2.15329) = -0.00000\n"
     ]
    }
   ],
   "source": [
    "# Definindo a função\n",
    "\n",
    "def f(x):\n",
    "    return (4*x - (math.e)**x)\n",
    "\n",
    "# Realizando a derivada pela definição, adotaremos o h como sendo muito pequeno, ou seja, tendendo a zero\n",
    "\n",
    "def df(x, h = 0.000001):\n",
    "    return ((f(x + h) - f(x))/h)\n",
    "\n",
    "tolerancia = 0.000001\n",
    "numeroIteracoes = 100\n",
    "\n",
    "x0 = float(input()) # Chute inicial\n",
    "\n",
    "i = 1\n",
    "x = 0.0\n",
    "\n",
    "# Aplicação do método\n",
    "\n",
    "while math.fabs(f(x0)) > tolerancia:\n",
    "    x = x0 - f(x0)/df(x0)\n",
    "    x0 = x\n",
    "    i += 1\n",
    "    \n",
    "    if i >= numeroIteracoes:\n",
    "        print(\"Número de iterações excedido.\")\n",
    "        break\n",
    "\n",
    "if i < numeroIteracoes:\n",
    "    print(f\"Raiz: {x0:.5f}\\nIterações: {i}\\nf({x0:.5f}) = {f(x0):.5f}\")"
   ]
  },
  {
   "cell_type": "code",
   "execution_count": null,
   "id": "0dbbb027",
   "metadata": {},
   "outputs": [],
   "source": []
  }
 ],
 "metadata": {
  "kernelspec": {
   "display_name": "Python 3 (ipykernel)",
   "language": "python",
   "name": "python3"
  },
  "language_info": {
   "codemirror_mode": {
    "name": "ipython",
    "version": 3
   },
   "file_extension": ".py",
   "mimetype": "text/x-python",
   "name": "python",
   "nbconvert_exporter": "python",
   "pygments_lexer": "ipython3",
   "version": "3.9.13"
  }
 },
 "nbformat": 4,
 "nbformat_minor": 5
}
