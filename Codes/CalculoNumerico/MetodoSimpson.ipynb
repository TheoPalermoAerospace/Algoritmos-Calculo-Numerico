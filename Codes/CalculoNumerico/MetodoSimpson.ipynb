{
 "cells": [
  {
   "cell_type": "code",
   "execution_count": 1,
   "id": "17c01f8a",
   "metadata": {},
   "outputs": [],
   "source": [
    "import math\n",
    "import numpy as np"
   ]
  },
  {
   "cell_type": "code",
   "execution_count": 8,
   "id": "54aa1fff",
   "metadata": {},
   "outputs": [
    {
     "name": "stdout",
     "output_type": "stream",
     "text": [
      "Integral =  0.1520049808532\n"
     ]
    }
   ],
   "source": [
    "# Vale apenas se tenho xn com n par\n",
    "\n",
    "def metodoSimpson(x):\n",
    "    n = len(x)\n",
    "    h = x[1] - x[0]\n",
    "    somatorio = (f(x[0]) + f(x[n-1]))\n",
    "    \n",
    "    for i in range(1, n-1):\n",
    "        if i%2 == 1:\n",
    "            somatorio = somatorio + 4*f(x[i])\n",
    "        else:\n",
    "            somatorio = somatorio + 2*f(x[i])\n",
    "    y = somatorio*h/3\n",
    "    return y\n",
    "\n",
    "def f(x):\n",
    "    y = np.log(x)\n",
    "    return y\n",
    "\n",
    "x = np.arange(1.0, 1.6, 0.1)\n",
    "\n",
    "print(\"Integral = \", metodoSimpson(x))"
   ]
  }
 ],
 "metadata": {
  "kernelspec": {
   "display_name": "Python 3 (ipykernel)",
   "language": "python",
   "name": "python3"
  },
  "language_info": {
   "codemirror_mode": {
    "name": "ipython",
    "version": 3
   },
   "file_extension": ".py",
   "mimetype": "text/x-python",
   "name": "python",
   "nbconvert_exporter": "python",
   "pygments_lexer": "ipython3",
   "version": "3.9.13"
  }
 },
 "nbformat": 4,
 "nbformat_minor": 5
}
