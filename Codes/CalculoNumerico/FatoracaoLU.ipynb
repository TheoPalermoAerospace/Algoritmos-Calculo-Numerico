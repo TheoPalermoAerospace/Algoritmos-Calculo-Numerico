{
 "cells": [
  {
   "cell_type": "code",
   "execution_count": 6,
   "id": "7456e73b",
   "metadata": {},
   "outputs": [
    {
     "name": "stdout",
     "output_type": "stream",
     "text": [
      "A =  [[3, 2, 4], [0.3333333333333333, 0.33333333333333337, 0.6666666666666667], [1.3333333333333333, 1.0000000000000002, -8.0]]\n",
      "y =  [1, 1.6666666666666667, -4.440892098500626e-16]\n",
      "x =  [-3.0, 5.0, 5.551115123125783e-17]\n"
     ]
    }
   ],
   "source": [
    "def metodoLU(A):\n",
    "    n = len(A)\n",
    "    x = [0]*n\n",
    "    \n",
    "    for k in list(range(1, n)):\n",
    "        for i in list(range(k+1, n+1)):\n",
    "            m = A[i-1][k-1]/A[k-1][k-1]\n",
    "            A[i-1][k-1] = m\n",
    "            \n",
    "            # Atualizando as demais linhas:\n",
    "            \n",
    "            for j in list(range(k+1, n+1)):\n",
    "                A[i-1][j-1] = A[i-1][j-1] - m*A[k-1][j-1]\n",
    "            \n",
    "    return A\n",
    "\n",
    "def solveMatrizTriangularInferior(L, b):\n",
    "    n = len(b)\n",
    "    y = [0]*n\n",
    "\n",
    "    for i in list(range(1, n+1)):\n",
    "        s = 0\n",
    "        \n",
    "        for j in list(range(1, i)):\n",
    "            s = s + L[i-1][j-1]*y[j-1]\n",
    "    \n",
    "        y[i-1] = b[i-1] - s\n",
    "    \n",
    "    return y\n",
    "\n",
    "def solveMatrizTriangularSuperior(U, b):\n",
    "    n = len(b)\n",
    "    x = [0]*n\n",
    "    \n",
    "    x[n-1] = b[n-1]/U[n-1][n-1]\n",
    "    \n",
    "    for i in list(range(n-1, 0, -1)):\n",
    "        s = 0\n",
    "        \n",
    "        for j in list(range(i+1, n+1)):\n",
    "            s = s + U[i-1][j-1]*x[j-1]\n",
    "    \n",
    "        x[i-1] = (b[i-1] - s)/(U[i-1][i-1])\n",
    "    \n",
    "    return x\n",
    "\n",
    "# Dados do problema:\n",
    "\n",
    "Ai = [[3, 2, 4],\n",
    "      [1, 1, 2],\n",
    "      [4, 3, -2]]\n",
    "\n",
    "bi = [1, 2, 3]\n",
    "\n",
    "A = metodoLU(Ai)\n",
    "print(\"A = \", A)\n",
    "y = solveMatrizTriangularInferior(A, bi)\n",
    "print(\"y = \", y)\n",
    "x = solveMatrizTriangularSuperior(A, y)\n",
    "print(\"x = \", x)"
   ]
  }
 ],
 "metadata": {
  "kernelspec": {
   "display_name": "Python 3 (ipykernel)",
   "language": "python",
   "name": "python3"
  },
  "language_info": {
   "codemirror_mode": {
    "name": "ipython",
    "version": 3
   },
   "file_extension": ".py",
   "mimetype": "text/x-python",
   "name": "python",
   "nbconvert_exporter": "python",
   "pygments_lexer": "ipython3",
   "version": "3.9.13"
  }
 },
 "nbformat": 4,
 "nbformat_minor": 5
}
