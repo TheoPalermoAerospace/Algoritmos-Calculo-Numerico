{
 "cells": [
  {
   "cell_type": "code",
   "execution_count": 1,
   "id": "88abcb20",
   "metadata": {},
   "outputs": [
    {
     "name": "stdout",
     "output_type": "stream",
     "text": [
      "p(0.50000) = 0.21629\n",
      "p(1.00000) = 0.38145\n",
      "p(1.50000) = 0.53930\n",
      "p(2.00000) = 0.64695\n",
      "p(2.50000) = 0.70606\n",
      "p(3.00000) = 0.73497\n",
      "p(3.50000) = 0.74835\n",
      "p(4.00000) = 0.75438\n",
      "p(4.50000) = 0.75706\n",
      "p(5.00000) = 0.75825\n",
      "p(5.50000) = 0.75878\n",
      "p(6.00000) = 0.75901\n",
      "p(6.50000) = 0.75911\n",
      "p(7.00000) = 0.75916\n",
      "p(7.50000) = 0.75918\n",
      "p(8.00000) = 0.75919\n",
      "p(8.50000) = 0.75919\n",
      "p(9.00000) = 0.75919\n",
      "p(9.50000) = 0.75920\n",
      "p(10.00000) = 0.75920\n",
      "\n",
      "p(10.000) = 0.759\n"
     ]
    }
   ],
   "source": [
    "def funcaoAuxiliar(t, p):\n",
    "    return (2*p*(1-p) - (p**2/(1+p**2)))\n",
    "\n",
    "def rungeQuartaOrdem(f, t0, tf, p0, h):\n",
    "    k1 = funcaoAuxiliar(t0, p0)\n",
    "    k2 = funcaoAuxiliar(t0+(h/2), p0+(h*k1/2))\n",
    "    k3 = funcaoAuxiliar(t0+(h/2), p0+(h*k2/2))\n",
    "    k4 = funcaoAuxiliar(t0+h, p0+h*k3)\n",
    "    p1 = p0 + k1*h/6 + ((2*h/6)*(k2+k3)) + k4*h/6\n",
    "    t1 = t0 + h\n",
    "    print(f\"p({t1:.5f}) = {p1:.5f}\")\n",
    "    \n",
    "    n = int((tf - t0)/h)\n",
    "    for i in range(1, n):\n",
    "        t0 = t1\n",
    "        p0 = p1\n",
    "        k1 = funcaoAuxiliar(t0, p0)\n",
    "        k2 = funcaoAuxiliar(t0+(h/2), p0+(h*k1/2))\n",
    "        k3 = funcaoAuxiliar(t0+(h/2), p0+(h*k2/2))\n",
    "        k4 = funcaoAuxiliar(t0+h, p0+h*k3)\n",
    "        p1 = p0 + k1*h/6 + ((2*h/6)*(k2+k3)) + k4*h/6\n",
    "        t1 = t0 + h\n",
    "        print(f\"p({t1:.5f}) = {p1:.5f}\")\n",
    "    \n",
    "    return t1, p1\n",
    "\n",
    "# Dados do problema\n",
    "f = funcaoAuxiliar\n",
    "t0 = 0\n",
    "tf = 10.1\n",
    "p0 = 0.1\n",
    "h = 0.5\n",
    "\n",
    "t1, p1 = rungeQuartaOrdem(f, t0, tf, p0, h)\n",
    "print(f\"\\np({t1:.3f}) = {p1:.3f}\")"
   ]
  },
  {
   "cell_type": "code",
   "execution_count": null,
   "id": "bdbfccc2",
   "metadata": {},
   "outputs": [],
   "source": []
  }
 ],
 "metadata": {
  "kernelspec": {
   "display_name": "Python 3 (ipykernel)",
   "language": "python",
   "name": "python3"
  },
  "language_info": {
   "codemirror_mode": {
    "name": "ipython",
    "version": 3
   },
   "file_extension": ".py",
   "mimetype": "text/x-python",
   "name": "python",
   "nbconvert_exporter": "python",
   "pygments_lexer": "ipython3",
   "version": "3.9.13"
  }
 },
 "nbformat": 4,
 "nbformat_minor": 5
}
