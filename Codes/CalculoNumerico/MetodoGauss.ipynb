{
 "cells": [
  {
   "cell_type": "code",
   "execution_count": 12,
   "id": "eafc9383",
   "metadata": {},
   "outputs": [
    {
     "name": "stdout",
     "output_type": "stream",
     "text": [
      "U =  [[3, 2, 4], [0, 0.33333333333333337, 0.6666666666666667], [0, 0, -8.0]]\n",
      "b =  [1, 1.6666666666666667, -4.440892098500626e-16]\n",
      "x =  [-3.0, 5.0, 5.551115123125783e-17]\n"
     ]
    }
   ],
   "source": [
    "# Fazer a eliminação de Gauss\n",
    "\n",
    "def eliminacaoGauss(A, b):\n",
    "    n = len(b)\n",
    "    x = [0]*n\n",
    "    \n",
    "    for k in list(range(1, n)): # Cálculo dos pivôs\n",
    "        for i in list(range(k+1, n+1)): # Cálculo dos Multiplicadores\n",
    "            m = A[i-1][k-1]/A[k-1][k-1]\n",
    "            A[i-1][k-1] = 0\n",
    "            b[i-1] = b[i-1] - m*b[k-1]\n",
    "            \n",
    "            # Atualizando as demais linhas:\n",
    "            \n",
    "            for j in list(range(k+1, n+1)):\n",
    "                A[i-1][j-1] = A[i-1][j-1] - m*A[k-1][j-1]\n",
    "            \n",
    "    return A, b\n",
    "\n",
    "# Função para resolver o sistema triangular superior\n",
    "\n",
    "def solveMatrizTriangularSuperior(U, b): # Matriz U, vetor b\n",
    "    n = len(b)\n",
    "    x = [0]*n # Precisamos de um vetor com tamanho n\n",
    "    \n",
    "    x[n-1] = b[n-1]/U[n-1][n-1]\n",
    "    \n",
    "    for i in list(range(n-1, 0, -1)):\n",
    "        s = 0\n",
    "        \n",
    "        for j in list(range(i+1, n+1)):\n",
    "            s = s + U[i-1][j-1]*x[j-1]\n",
    "    \n",
    "        x[i-1] = (b[i-1] - s)/(U[i-1][i-1])\n",
    "    \n",
    "    return x\n",
    "\n",
    "# Dados do problema:\n",
    "\n",
    "Ai = [[3, 2, 4],\n",
    "      [1, 1, 2],\n",
    "      [4, 3, -2]]\n",
    "\n",
    "bi = [1, 2, 3]\n",
    "\n",
    "print(\"U = \", U)\n",
    "print(\"b = \", b)\n",
    "x = solveMatrizTriangularSuperior(U, b)\n",
    "print(\"x = \", x)"
   ]
  }
 ],
 "metadata": {
  "kernelspec": {
   "display_name": "Python 3 (ipykernel)",
   "language": "python",
   "name": "python3"
  },
  "language_info": {
   "codemirror_mode": {
    "name": "ipython",
    "version": 3
   },
   "file_extension": ".py",
   "mimetype": "text/x-python",
   "name": "python",
   "nbconvert_exporter": "python",
   "pygments_lexer": "ipython3",
   "version": "3.9.13"
  }
 },
 "nbformat": 4,
 "nbformat_minor": 5
}
