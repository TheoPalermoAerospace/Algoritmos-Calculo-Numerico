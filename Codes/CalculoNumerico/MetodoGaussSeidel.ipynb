{
 "cells": [
  {
   "cell_type": "code",
   "execution_count": 1,
   "id": "a31e1310",
   "metadata": {},
   "outputs": [],
   "source": [
    "import math"
   ]
  },
  {
   "cell_type": "code",
   "execution_count": 6,
   "id": "fd636754",
   "metadata": {},
   "outputs": [
    {
     "name": "stdout",
     "output_type": "stream",
     "text": [
      "Iteracao: 0\n",
      "x = [0.7, -1.6, 0.6]\n",
      "\n",
      "Iteracao: 1\n",
      "xk = [0.96, -1.9120000000000001, 0.9816000000000001]\n",
      "\n",
      "Iteracao: 2\n",
      "xk = [0.98424, -1.993168, 1.0011024000000002]\n",
      "\n",
      "Iteracao: 3\n",
      "xk = [0.9985233600000001, -1.9999251520000003, 1.0002728736000002]\n",
      "\n",
      "Iteracao: 4\n",
      "xk = [0.9999577430400001, -2.000046123328, 1.0000222883904002]\n",
      "\n",
      "x = [0.9999577430400001, -2.000046123328, 1.0000222883904002]\n"
     ]
    }
   ],
   "source": [
    "def comparacao(x, xk, tolerancia = 0.01):\n",
    "    soma = 0\n",
    "    zip_object = zip(x, xk)\n",
    "    \n",
    "    for primeiraLista_i, segundaLista_i in zip_object:\n",
    "        soma = soma + math.fabs(primeiraLista_i - segundaLista_i)\n",
    "    \n",
    "    if soma < tolerancia:\n",
    "        return True\n",
    "    else:\n",
    "        return False\n",
    "\n",
    "def gaussSeidel(A, b, maxIteracoes = 10, tolerancia = 0.01):\n",
    "    n = len(b)\n",
    "    solution = True\n",
    "    x = b.copy() # Copiar os valores de b sem alterar b\n",
    "    \n",
    "    for i in list(range(1, n+1)):\n",
    "        if math.fabs(A[i-1][i-1]) > 0.0:\n",
    "            x[i-1] = b[i-1]/A[i-1][i-1]\n",
    "        else:\n",
    "            solution = False\n",
    "            break\n",
    "    \n",
    "    if solution:\n",
    "        print(\"Iteracao: 0\")\n",
    "        print(f\"x = {x}\\n\")\n",
    "        xk = x.copy()\n",
    "        iteracoes = 0\n",
    "        \n",
    "        while iteracoes < maxIteracoes:\n",
    "            iteracoes += 1\n",
    "            \n",
    "            for i in list(range(1, n+1)):\n",
    "                somatorio = 0\n",
    "                for j in list(range(1, n+1)):\n",
    "                    \n",
    "                    if (i-1) > (j-1):\n",
    "                        somatorio = somatorio + A[i-1][j-1]*xk[j-1]\n",
    "                    elif (i-1) < (j-1):\n",
    "                        somatorio = somatorio + A[i-1][j-1]*x[j-1]\n",
    "                        \n",
    "                xk[i-1] = (1/A[i-1][i-1])*(b[i-1] - somatorio)\n",
    "        \n",
    "            print(f\"Iteracao: {iteracoes}\")\n",
    "            print(f\"xk = {xk}\\n\")\n",
    "            \n",
    "            if comparacao(x, xk, tolerancia):\n",
    "                x = xk.copy()\n",
    "                break\n",
    "                \n",
    "            x = xk.copy()\n",
    "            \n",
    "    return x\n",
    "\n",
    "# Dados de Entrada:\n",
    "\n",
    "A = [[10, 2, 1],\n",
    "     [1, 5, 1],\n",
    "     [2, 3, 10]]\n",
    "\n",
    "b = [7, -8, 6]\n",
    "\n",
    "x = gaussSeidel(A, b)\n",
    "print(f\"x = {x}\")"
   ]
  },
  {
   "cell_type": "code",
   "execution_count": null,
   "id": "eeb64f9e",
   "metadata": {},
   "outputs": [],
   "source": []
  }
 ],
 "metadata": {
  "kernelspec": {
   "display_name": "Python 3 (ipykernel)",
   "language": "python",
   "name": "python3"
  },
  "language_info": {
   "codemirror_mode": {
    "name": "ipython",
    "version": 3
   },
   "file_extension": ".py",
   "mimetype": "text/x-python",
   "name": "python",
   "nbconvert_exporter": "python",
   "pygments_lexer": "ipython3",
   "version": "3.9.13"
  }
 },
 "nbformat": 4,
 "nbformat_minor": 5
}
