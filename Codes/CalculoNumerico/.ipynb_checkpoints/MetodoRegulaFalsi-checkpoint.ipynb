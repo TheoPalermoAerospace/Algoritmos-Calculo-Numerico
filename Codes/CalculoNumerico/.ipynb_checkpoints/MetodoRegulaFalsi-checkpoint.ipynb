{
 "cells": [
  {
   "cell_type": "code",
   "execution_count": 26,
   "id": "3b8125c5",
   "metadata": {},
   "outputs": [],
   "source": [
    "import math\n",
    "import matplotlib.pyplot as plt\n",
    "import numpy as np"
   ]
  },
  {
   "cell_type": "code",
   "execution_count": 41,
   "id": "b9229ab3",
   "metadata": {},
   "outputs": [
    {
     "name": "stdout",
     "output_type": "stream",
     "text": [
      "[ 2.0 , 3.0 ]\n",
      "[ 2.47984830373263 , 3.0 ]\n",
      "[ 2.5049642922892947 , 3.0 ]\n",
      "[ 2.506127958861449 , 3.0 ]\n",
      "[ 2.5061815582843536 , 3.0 ]\n",
      "[ 2.506184026449166 , 3.0 ]\n",
      "[ 2.506184140102659 , 3.0 ]\n",
      "[ 2.506184145336146 , 3.0 ]\n",
      "[ 2.5061841455771363 , 3.0 ]\n",
      "[ 2.5061841455882337 , 3.0 ]\n",
      "[ 2.506184145588745 , 3.0 ]\n",
      "[ 2.506184145588769 , 3.0 ]\n",
      "[ 2.5061841455887692 , 3.0 ]\n",
      "[ 2.5061841455887692 , 3.0 ]\n",
      "[ 2.5061841455887692 , 3.0 ]\n",
      "[ 2.5061841455887692 , 3.0 ]\n",
      "[ 2.5061841455887692 , 3.0 ]\n",
      "[ 2.5061841455887692 , 3.0 ]\n",
      "[ 2.5061841455887692 , 3.0 ]\n",
      "[ 2.5061841455887692 , 3.0 ]\n",
      "[ 2.5061841455887692 , 3.0 ]\n"
     ]
    }
   ],
   "source": [
    "def f(x):\n",
    "    return (x*math.log10(x)-1)\n",
    "\n",
    "x = np.arange(1.0, 3.0, 0.1)\n",
    "\n",
    "def regulaFalsi(a, b, maxIter = 20, tolerancia = 0.00001):\n",
    "    c = b - a\n",
    "    valores = []\n",
    "    iteracoes = 0\n",
    "    \n",
    "    if f(a)*f(b) < 0:\n",
    "        while c > tolerancia and iteracoes <= maxIter:\n",
    "            print('[',a,',',b,']')\n",
    "            x0 = (a*f(b) - b*f(a))/(f(b) - f(a))\n",
    "            valores.append(x0)\n",
    "\n",
    "            if f(x0)*f(b) > 0:\n",
    "                b = x0\n",
    "            else:\n",
    "                a = x0\n",
    "\n",
    "            iteracoes += 1\n",
    "    else:\n",
    "        print(\"Não há raízes no intervalo dado\")\n",
    "\n",
    "regulaFalsi(2.0, 3.0)"
   ]
  }
 ],
 "metadata": {
  "kernelspec": {
   "display_name": "Python 3 (ipykernel)",
   "language": "python",
   "name": "python3"
  },
  "language_info": {
   "codemirror_mode": {
    "name": "ipython",
    "version": 3
   },
   "file_extension": ".py",
   "mimetype": "text/x-python",
   "name": "python",
   "nbconvert_exporter": "python",
   "pygments_lexer": "ipython3",
   "version": "3.9.13"
  }
 },
 "nbformat": 4,
 "nbformat_minor": 5
}
