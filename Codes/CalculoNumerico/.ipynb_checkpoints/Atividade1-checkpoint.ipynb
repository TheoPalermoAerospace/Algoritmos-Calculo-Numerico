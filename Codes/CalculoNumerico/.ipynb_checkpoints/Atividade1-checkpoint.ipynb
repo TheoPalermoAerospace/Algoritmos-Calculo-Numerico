{
 "cells": [
  {
   "cell_type": "markdown",
   "id": "608eeb4c",
   "metadata": {},
   "source": [
    "## Theo Vinicius Souza Palermo - RA 11201921986 - Atividade 1"
   ]
  },
  {
   "cell_type": "code",
   "execution_count": 43,
   "id": "52a70181",
   "metadata": {},
   "outputs": [],
   "source": [
    "import math\n",
    "import matplotlib.pyplot as plt\n",
    "import numpy as np"
   ]
  },
  {
   "cell_type": "markdown",
   "id": "8357ed77",
   "metadata": {},
   "source": [
    "## Questão 1"
   ]
  },
  {
   "cell_type": "code",
   "execution_count": 44,
   "id": "7349b3ef",
   "metadata": {},
   "outputs": [
    {
     "name": "stdout",
     "output_type": "stream",
     "text": [
      "-0.0000048503\n"
     ]
    }
   ],
   "source": [
    "x = 0\n",
    "i = 1\n",
    "\n",
    "while i <= 1000000:\n",
    "    x += np.pi\n",
    "    i += 1\n",
    "\n",
    "resultado = x - (1000000*np.pi)\n",
    "print(f\"{resultado:.10f}\")"
   ]
  },
  {
   "cell_type": "markdown",
   "id": "1870a3e9",
   "metadata": {},
   "source": [
    "## Questão 2"
   ]
  },
  {
   "cell_type": "code",
   "execution_count": 45,
   "id": "5802f1e8",
   "metadata": {},
   "outputs": [
    {
     "name": "stdout",
     "output_type": "stream",
     "text": [
      "A precisão da máquina é de: 1.1102230246251565e-16\n"
     ]
    }
   ],
   "source": [
    "A = 1\n",
    "S = 1 + A\n",
    "\n",
    "while S > 1:\n",
    "    A /= 2\n",
    "    S = 1 + A\n",
    "    \n",
    "prec = A*2\n",
    "print(f\"A precisão da máquina é de: {A}\")"
   ]
  },
  {
   "cell_type": "markdown",
   "id": "7a68c1e5",
   "metadata": {},
   "source": [
    "## Questão 3"
   ]
  },
  {
   "cell_type": "code",
   "execution_count": 46,
   "id": "ab5fe7bf",
   "metadata": {},
   "outputs": [
    {
     "name": "stdout",
     "output_type": "stream",
     "text": [
      "Letra a) = 0.00\n",
      "Letra b) = 6.71\n",
      "Letra c) = -0.92\n",
      "Letra d) = 3.02\n"
     ]
    }
   ],
   "source": [
    "def f(x):\n",
    "    return (x-np.sqrt(8))\n",
    "\n",
    "print(f\"Letra a) = {f(np.sqrt(8)):.2f}\")\n",
    "print(f\"Letra b) = {f(np.sqrt(91)):.2f}\")\n",
    "print(f\"Letra c) = {f(np.cbrt(7)):.2f}\")\n",
    "print(f\"Letra d) = {f(np.cbrt(200)):.2f}\")"
   ]
  },
  {
   "cell_type": "markdown",
   "id": "53432da0",
   "metadata": {},
   "source": [
    "## Questão 4"
   ]
  },
  {
   "cell_type": "code",
   "execution_count": 47,
   "id": "60b1624d",
   "metadata": {},
   "outputs": [
    {
     "name": "stdout",
     "output_type": "stream",
     "text": [
      "i\t x\t\t f(x)\n",
      "-\t1.200000e+00\t-3.034938e-01\n",
      "1\t1.519471e+00\t-2.957016e-02\n",
      "2\t1.558839e+00\t-5.572346e-04\n",
      "3\t1.559610e+00\t-2.144617e-07\n",
      "\n",
      "Raiz: 1.5596\n",
      "Iterações: 4\n",
      "f(1.5596) = -0.0000\n"
     ]
    },
    {
     "data": {
      "image/png": "[encoded data removed]",
      "text/plain": [
       "<Figure size 640x480 with 1 Axes>"
      ]
     },
     "metadata": {},
     "output_type": "display_data"
    }
   ],
   "source": [
    "def func(x):\n",
    "    return ((1/2)-x**(-x))\n",
    "\n",
    "\"\"\"\n",
    "Realizando a derivada pela definição, adotaremos o h\n",
    "como sendo muito pequeno, ou seja, tendendo a zero\n",
    "\"\"\"\n",
    "\n",
    "def df(x, h = 0.000001):\n",
    "    return ((func(x + h) - func(x))/h)\n",
    "\n",
    "tolerancia = 0.000001\n",
    "numeroIteracoes = 100\n",
    "\n",
    "x0 = 1.2 # Chute inicial\n",
    "\n",
    "i = 1\n",
    "x = 0.0\n",
    "\n",
    "print(\"i\\t x\\t\\t f(x)\")\n",
    "print(\"-\\t%e\\t%e\" % (x0, func(x0)))\n",
    "\n",
    "# Aplicação do método\n",
    "\n",
    "while math.fabs(func(x0)) > tolerancia:\n",
    "    x = x0 - func(x0)/df(x0)\n",
    "    x0 = x\n",
    "    print(\"%d\\t%e\\t%e\" % (i, x0, func(x0)))\n",
    "    i += 1\n",
    "    \n",
    "    if i >= numeroIteracoes:\n",
    "        print(\"Número de iterações excedido.\")\n",
    "        break\n",
    "\n",
    "print(\"\")\n",
    "        \n",
    "if i < numeroIteracoes:\n",
    "    print(f\"Raiz: {x0:.4f}\\nIterações: {i}\\nf({x0:.4f}) = {func(x0):.4f}\")\n",
    "    \n",
    "# Gráfico\n",
    "\n",
    "x = np.linspace(0.5, 3.0, 1000)\n",
    "plt.figure()\n",
    "plt.yticks(np.arange(-1, 1, step = 0.1))\n",
    "plt.plot(x, func(x))\n",
    "plt.plot([0.5, 3.0], [0,0], 'r')\n",
    "plt.grid()\n",
    "plt.show()"
   ]
  },
  {
   "cell_type": "markdown",
   "id": "c30aee33",
   "metadata": {},
   "source": [
    "## Questão 5"
   ]
  },
  {
   "cell_type": "markdown",
   "id": "d89c24a7",
   "metadata": {},
   "source": [
    "### De acordo com o enunciado, temos que:\n",
    "\n",
    "\\begin{equation}\n",
    "    C(t) = 80e^{-2t} + 20e^{-0.1t} \n",
    "\\end{equation}\n",
    "\n",
    "### Tendo em vista que o valor da concentração $C(t)$ no instante $t_0 = 0$ vale 100 e que queremos encontrar o instante $t$ no qual a concentração seja igual a 10% do valor inicial, então:\n",
    "\n",
    "\\begin{equation}\n",
    "    C(t) = 10 = 80e^{-2t} + 20e^{-0.1t} \n",
    "\\end{equation}\n",
    "\n",
    "### Para isso, podemos utilizar o método de Newton. Logo, podemos definir a seguinte função $c(t)$ e sua derivada $\\frac{d}{dt}c(t)$:\n",
    "\n",
    "\\begin{equation}\n",
    "    c(t) = 80e^{-2t} + 20e^{-0.1t} - 10\n",
    "\\end{equation}\n",
    "\n",
    "\\begin{equation}\n",
    "    \\frac{d}{dt}c(t) = -160e^{-2t} - 2e^{-0.1t}\n",
    "\\end{equation}"
   ]
  },
  {
   "cell_type": "code",
   "execution_count": 48,
   "id": "9b00a381",
   "metadata": {},
   "outputs": [
    {
     "name": "stdout",
     "output_type": "stream",
     "text": [
      "Raiz: 6.9315\n",
      "Iterações: 7\n",
      "f(6.9315) = 0.0000\n"
     ]
    },
    {
     "data": {
      "image/png": "[encoded data removed]",
      "text/plain": [
       "<Figure size 640x480 with 1 Axes>"
      ]
     },
     "metadata": {},
     "output_type": "display_data"
    }
   ],
   "source": [
    "\"\"\"\n",
    "Em t = 0, a concentração é de 100. Logo, temos que achar um instante t\n",
    "no qual a concentração C é 10 por cento de 100, ou seja, 10.\n",
    "\"\"\"\n",
    "\n",
    "def c(t):\n",
    "    return (80*np.e**(-2*t) + 20*np.e**(-0.1*t) - 10)\n",
    "\n",
    "def dc(t):\n",
    "    return (-160*np.e**(-2*t) - 2*np.e**(-0.1*t))\n",
    "\n",
    "tol = 0.000001\n",
    "numIteracoes = 100\n",
    "t0 = 1 # Chute inicial\n",
    "k = 1\n",
    "t = 0.0\n",
    "\n",
    "while math.fabs(c(t0)) > tol:\n",
    "    t = t0 - c(t0)/dc(t0)\n",
    "    t0 = t\n",
    "    k += 1\n",
    "    \n",
    "    if k >= numIteracoes:\n",
    "        print(\"Número de iterações excedido.\")\n",
    "        break\n",
    "\n",
    "if k < numIteracoes:\n",
    "    print(f\"Raiz: {t0:.4f}\\nIterações: {k}\\nf({t0:.4f}) = {c(t0):.4f}\")\n",
    "\n",
    "t = np.linspace(0.0, 10.0)\n",
    "\n",
    "# Gráfico\n",
    "\n",
    "plt.figure()\n",
    "plt.yticks(np.arange(0, 100, step = 10))\n",
    "plt.xticks(np.arange(0, 11, step = 1))\n",
    "plt.ylabel(\"$c(t)$\")\n",
    "plt.xlabel(\"$t$\")\n",
    "plt.plot(t, c(t), label = \"Função $c(t)$\")\n",
    "plt.plot([0.0, 10.0], [10,10], 'r')\n",
    "plt.plot([0.0, 10.0], [0,0], 'k')\n",
    "plt.grid()\n",
    "plt.legend()\n",
    "plt.show()"
   ]
  }
 ],
 "metadata": {
  "kernelspec": {
   "display_name": "Python 3 (ipykernel)",
   "language": "python",
   "name": "python3"
  },
  "language_info": {
   "codemirror_mode": {
    "name": "ipython",
    "version": 3
   },
   "file_extension": ".py",
   "mimetype": "text/x-python",
   "name": "python",
   "nbconvert_exporter": "python",
   "pygments_lexer": "ipython3",
   "version": "3.9.13"
  }
 },
 "nbformat": 4,
 "nbformat_minor": 5
}
