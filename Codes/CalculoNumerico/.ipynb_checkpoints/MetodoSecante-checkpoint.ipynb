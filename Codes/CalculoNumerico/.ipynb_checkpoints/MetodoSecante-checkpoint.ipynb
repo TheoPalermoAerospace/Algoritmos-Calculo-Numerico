{
 "cells": [
  {
   "cell_type": "code",
   "execution_count": 32,
   "id": "1b625540",
   "metadata": {},
   "outputs": [],
   "source": [
    "import math\n",
    "import matplotlib.pyplot as plt"
   ]
  },
  {
   "cell_type": "code",
   "execution_count": 39,
   "id": "a159e7d6",
   "metadata": {},
   "outputs": [
    {
     "name": "stdout",
     "output_type": "stream",
     "text": [
      "i\t x\t\t f(x)\n",
      "-\t3.000000e+00\t-8.085537e+00\n",
      "-\t2.000000e+00\t6.109439e-01\n",
      "1\t2.070252e+00\t3.541881e-01\n",
      "2\t2.167163e+00\t-6.481779e-02\n",
      "3\t2.152171e+00\t5.167571e-03\n",
      "4\t2.153278e+00\t6.647168e-05\n"
     ]
    },
    {
     "data": {
      "text/plain": [
       "'A raíz da função f(x) é: 2.15328'"
      ]
     },
     "execution_count": 39,
     "metadata": {},
     "output_type": "execute_result"
    }
   ],
   "source": [
    "def f(x):\n",
    "    return (4*x - (math.e)**x)\n",
    "\n",
    "def metodoSecante(f, x0, x1, epsilon, iterMax):\n",
    "    if math.fabs(f(x0)) <= epsilon:\n",
    "        return (False, x0)\n",
    "    \n",
    "    if math.fabs(f(x1)) <= epsilon:\n",
    "        return (False, x0)\n",
    "    \n",
    "    valores = [x0, x1]\n",
    "    \n",
    "    # Sendo i o número de iterações, temos:\n",
    "    \n",
    "    print(\"i\\t x\\t\\t f(x)\")\n",
    "    print(\"-\\t%e\\t%e\" % (x0, f(x0)))\n",
    "    print(\"-\\t%e\\t%e\" % (x1, f(x1)))\n",
    "    \n",
    "    for i in range (1, iterMax+1):\n",
    "        x2 = (x0*f(x1) - x1*f(x0))/(f(x1) - f(x0))\n",
    "        print(\"%d\\t%e\\t%e\" % (i, x2, f(x2)))\n",
    "        \n",
    "        valores.append(x2)\n",
    "        \n",
    "        if math.fabs(f(x2)) <= epsilon:\n",
    "            return (f\"A raíz da função f(x) é: {x2:.5f}\")\n",
    "        \n",
    "        x0 = x1\n",
    "        x1 = x2\n",
    "    \n",
    "    print()\n",
    "    print(\"Número máximo de iterações foi atingido.\")\n",
    "    print(True, x2)\n",
    "    \n",
    "metodoSecante(f, 3, 2, 0.005, 50)"
   ]
  },
  {
   "cell_type": "code",
   "execution_count": null,
   "id": "4d62b978",
   "metadata": {},
   "outputs": [],
   "source": []
  }
 ],
 "metadata": {
  "kernelspec": {
   "display_name": "Python 3 (ipykernel)",
   "language": "python",
   "name": "python3"
  },
  "language_info": {
   "codemirror_mode": {
    "name": "ipython",
    "version": 3
   },
   "file_extension": ".py",
   "mimetype": "text/x-python",
   "name": "python",
   "nbconvert_exporter": "python",
   "pygments_lexer": "ipython3",
   "version": "3.9.13"
  }
 },
 "nbformat": 4,
 "nbformat_minor": 5
}
